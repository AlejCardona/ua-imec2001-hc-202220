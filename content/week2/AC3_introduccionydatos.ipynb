{
 "cells": [
  {
   "cell_type": "markdown",
   "id": "96d8271f",
   "metadata": {},
   "source": [
    "# IMEC2001 Herramientas Computacionales \n",
    "## Actividad Clase 3: Introducción y Datos\n",
    "### Fecha Límite Entrega (Bloque Neón): <font color=\"#FF5733\">17.20h de Agosto 16, 2022</font>\n",
    "\n",
    "Universidad de los Andes — Agosto 16, 2022.\n",
    "\n",
    "___\n",
    "### Tener en Cuenta\n",
    "La entrega de la **Actividad Clase 3** se puede realizar de dos maneras:\n",
    "1. Enviar vía Bloque Neón el archivo en Jupyter Notebook (extensión '.ipynb').\n",
    "2. Enviar vía Bloque Neón el archivo PDF del Jupyter Notebook.\n",
    "\n",
    "**Nota:** <font color=\"#FF5733\">El nombre del archivo debe ser: `AC3_NombreApellido_Código.ipynb`.</font>\n",
    "\n",
    "---\n",
    "\n",
    "## TABLA DE CONTENIDO\n",
    "\n",
    "### Sección 1: Ejercicios [→](#section1)\n",
    "1. Asignación de Variables y Tipos de Datos [→](#exercise1)\n",
    "2. Matemática Básica en Python [→](#exercise2)\n",
    "3. Condicionales *If-Elseif-Else* [→](#exercise3)\n",
    "4. Iteradores y Condicionales [→](#exercise4)\n",
    "5. Funciones [→](#exercise5)\n",
    "6. Librería `pandas` [→](#exercise6)\n",
    "___"
   ]
  },
  {
   "cell_type": "markdown",
   "id": "f5979495",
   "metadata": {},
   "source": [
    "<a id=\"section1\"></a>\n",
    "# Sección 1: Ejercicios"
   ]
  },
  {
   "cell_type": "markdown",
   "id": "99aa4696",
   "metadata": {},
   "source": [
    "<a id=\"exercise1\"></a>\n",
    "## 1. Asignación de Variables y Tipos de Datos\n",
    "\n",
    "<div class=\"alert alert-block alert-warning\">\n",
    "    \n",
    "Realizar dos (2) asignaciones de cada tipo de dato:\n",
    "* String (`str`)\n",
    "* Integer (`int`)\n",
    "* Float (`float`)\n",
    "* Boolean (`bool`)\n",
    "* List (`list`)\n",
    "* Diccionario (`dict`)\n",
    "\n",
    "</div>\n",
    "\n",
    "___\n",
    "**Ejemplo** <br>\n",
    "<font color=\"#FF5733\">Output</font>\n",
    "```python\n",
    "palabra_1 = \"Hola\"\n",
    "\n",
    "num_1_in = 4\n",
    "\n",
    "num_1_fl = 10.5\n",
    "\n",
    "verdadero = True\n",
    "\n",
    "lista_4 = [\"Hola\", 1, 2.0, [\"mundo\"]] \n",
    "\n",
    "dic = {\"llave_1\": \"valor\",\n",
    "       \"llave_2\": 2,\n",
    "       \"llave_3\": 1.5,\n",
    "       \"llave_4\": ['4']}\n",
    "```\n",
    "___"
   ]
  },
  {
   "cell_type": "code",
   "execution_count": 5,
   "id": "4cf66dd9",
   "metadata": {},
   "outputs": [],
   "source": [
    "#SOLUCION 1:\n",
    "\n",
    "nombre = \"maria\"\n",
    "\n",
    "edad = 20\n",
    "\n",
    "promedio_notas = 4.5\n",
    "\n",
    "Prueba_academica = False\n",
    "\n",
    "lista_cursos = [\"herramientas\", \"cbu\", \"calculo\", \"deporte\"]\n",
    "\n",
    "notas_semestre_pasado = {\"Consti\": 5.0,\n",
    "                        \"Taller de diseño\": 4.3,\n",
    "                        \"Precalculo\": 1.5}"
   ]
  },
  {
   "cell_type": "markdown",
   "id": "d95f041b",
   "metadata": {},
   "source": [
    "<a id=\"exercise2\"></a>\n",
    "## 2. Matemática Básica en Python\n",
    "\n",
    "Se dan los siguientes datos para un cliente en un banco: nombre, saldo promedio y número de transacciones realizadas durante el mes. Se requiere calcular el interés devengado y el cargo por servicio.\n",
    "\n",
    "El interés se calcula de la siguiente manera: \n",
    "\n",
    "$$\n",
    "Interés = 3\\% · Saldo \\: Promedio\n",
    "$$\n",
    "\n",
    "El cargo por servicio se calcula así:\n",
    "\n",
    "$$\n",
    "Cargo \\: por \\: Servicio = 75/100 · Transacción\n",
    "$$\n",
    "\n",
    "<div class=\"alert alert-block alert-warning\">\n",
    "    \n",
    "Escriba un algoritmo que calcula el interés y el cargo por servicio a partir de los siguientes datos:\n",
    "> **Nombre:** Noel Kalicharan <br>\n",
    "> **Saldo Promedio:** 5550 <br>\n",
    "> **Número de Transacciones:** 7 <br>\n",
    "\n",
    "También, explore cómo hacer más dinámico el algoritmo a partir de entradas por teclado del nombre del cliente, el interés y el cargo por servicio. Para esto, use la función input().\n",
    "\n",
    "**Nota:** Las entradas por teclado *siempre* son tipo String (`str`), por tanto, si tenemos números (`int` o `float`), debemos transformarlos de la siguiente manera: `int(<entrada>)` o `float(<entrada>)`. \n",
    "\n",
    "</div>\n",
    "\n",
    "___\n",
    "**Ejemplo** <br>\n",
    "<font color=\"#FF5733\">Input</font>\n",
    "```python\n",
    "nombre = \"Noel Kalicharan\"\n",
    "saldo_prom = 5550\n",
    "num_transacciones = 7\n",
    "```\n",
    "<font color=\"#FF5733\">Output</font>\n",
    "```python\n",
    "interes = 166.5\n",
    "cargo_servicio = 5.25\n",
    "```\n",
    "___"
   ]
  },
  {
   "cell_type": "code",
   "execution_count": 14,
   "id": "9856e50c",
   "metadata": {},
   "outputs": [
    {
     "name": "stdout",
     "output_type": "stream",
     "text": [
      "Digite el nombre: victor\n",
      "Saldo Promedio del cliente: 5550\n",
      "Número de transacciones del mes: 7\n",
      "El interes es 166.5 y el cargo es 5.25.\n"
     ]
    }
   ],
   "source": [
    "# Definición inputs \n",
    "nombre = input(\"Digite el nombre: \")\n",
    "saldo_prom = int(input(\"Saldo Promedio del cliente: \"))\n",
    "num_transacciones = int(input(\"Número de transacciones del mes: \"))\n",
    "\n",
    "interes = saldo_prom * 0.03\n",
    "cargo_servicio = (75/100)* num_transacciones\n",
    "\n",
    "print( \"El interes es \" +str(interes)+ \" y el cargo es \" +str(cargo_servicio)+ \".\")\n",
    "\n",
    "# Implementación fórmulas\n"
   ]
  },
  {
   "cell_type": "markdown",
   "id": "65eba0ba",
   "metadata": {},
   "source": [
    "<a id=\"exercise3\"></a>\n",
    "## Ejercicio 3: Condicionales *If-Elseif-Else*\n",
    "\n",
    "Se tienen dos números definidos vía entrada por teclado, al igual que un operador matemático básico (i.e., `+`, `-`, `*`, `/`).\n",
    "\n",
    "<div class=\"alert alert-block alert-warning\">\n",
    "    \n",
    "Escriba un algoritmo que ejecute la operación matemática entre los dos números definidos vía entrada por teclado, y lo imprima en pantalla con la sintaxis:\n",
    "\n",
    "```python\n",
    "\"La <operación> entre <número 1> y <número 2> es <resultado>. \n",
    "```\n",
    "\n",
    "¿Cómo restrinje una división entre cero o una operación por un caracter diferente a un operador matemático?\n",
    "\n",
    "</div>\n",
    "\n",
    "___\n",
    "**Ejemplo 1** <br>\n",
    "<font color=\"#FF5733\">Input</font>\n",
    "```python\n",
    "num1 = 25\n",
    "num2 = 5\n",
    "oper = *\n",
    "```\n",
    "<font color=\"#FF5733\">Output</font>\n",
    "```julia\n",
    "\"La multiplicación entre 25 y 5 es 125.\"\n",
    "```\n",
    "\n",
    "**Ejemplo 2** <br>\n",
    "<font color=\"#FF5733\">Input</font>\n",
    "```python\n",
    "num1 = 12\n",
    "num2 = 0\n",
    "oper = /\n",
    "```\n",
    "<font color=\"#FF5733\">Output</font>\n",
    "```julia\n",
    "\"¡No se puede dividir entre 0!\"\n",
    "```\n",
    "\n",
    "**Ejemplo 3** <br>\n",
    "<font color=\"#FF5733\">Input</font>\n",
    "```python\n",
    "num1 = 3\n",
    "num2 = 7\n",
    "oper = x\n",
    "```\n",
    "<font color=\"#FF5733\">Output</font>\n",
    "```python\n",
    "\"ERROR: No seleccionó un operador correcto.\"\n",
    "```\n",
    "___"
   ]
  },
  {
   "cell_type": "code",
   "execution_count": 20,
   "id": "e0c2c3cc",
   "metadata": {
    "scrolled": true
   },
   "outputs": [
    {
     "name": "stdout",
     "output_type": "stream",
     "text": [
      "Operador matemático: +\n",
      "Número 1: 46415631265\n",
      "Número 2: 135416246\n",
      "La suma entre 46415631265.0 y 135416246.0 es 46551047511.0.\n"
     ]
    }
   ],
   "source": [
    "operador = input(\"Operador matemático: \")\n",
    "numero_1 = float(input(\"Número 1: \"))\n",
    "numero_2 = float(input(\"Número 2: \"))\n",
    "\n",
    "if (operador == '+'):\n",
    "    op = \"suma\"\n",
    "    rta = numero_1 + numero_2\n",
    "    print(\"La \" + op +  \" entre \" +str(numero_1) + \" y \" +str(numero_2) + \" es \" +str(rta)+ \".\")\n",
    "elif (operador == \"-\"):\n",
    "    op = \"resta\"\n",
    "    rta = numero_1 - numero_2\n",
    "    print(\"La \" + op +  \" entre \" +str(numero_1) + \" y \" +str(numero_2) + \" es \" +str(rta)+ \".\")\n",
    "elif (operador == \"*\"):\n",
    "    op = \"multiplicación\"\n",
    "    rta = numero_1 * numero_2\n",
    "    print(\"La \" + op +  \" entre \" +str(numero_1) + \" y \" +str(numero_2) + \" es \" +str(rta)+ \".\")\n",
    "elif (operador == \"/\"):\n",
    "    op = \"division\"\n",
    "    if (numero_2 == 0):\n",
    "        print(\"¡No se puede dividir entre 0!\")\n",
    "    else:\n",
    "        rta = numero_1 / numero_2\n",
    "        print(\"La \" + op +  \" entre \" +str(numero_1) + \" y \" +str(numero_2) + \" es \" +str(rta)+ \".\") \n",
    "else:\n",
    "    print(\"El operador definido no es correcto\")       "
   ]
  },
  {
   "cell_type": "markdown",
   "id": "3546cdcc",
   "metadata": {},
   "source": [
    "<a id=\"exercise4\"></a>\n",
    "## Ejercicio 4: Iteradores y Condicionales\n",
    "\n",
    "Se tienen el conjunto de información de los meses y la respectiva cantidad de días en una estructura `list`. \n",
    "\n",
    "<div class=\"alert alert-block alert-warning\">\n",
    "    \n",
    " <ol>\n",
    "  <li>Escriba un algoritmo que imprima un diccionario que contiene los nombres de los meses con menos de 31 días y el respectivo número de días.</li>\n",
    "  <li>Escriba un algoritmo que imprima una lista que contiene los nombres de los meses con menos de 31 días y el respectivo número de días.</li>\n",
    "</ol>\n",
    "</div>\n",
    "\n",
    "___\n",
    "**Ejemplo** <br>\n",
    "<font color=\"#FF5733\">Output</font>\n",
    "```python\n",
    "{'Febrero': 28,\n",
    " 'Abril': 30,\n",
    " 'Junio': 30,\n",
    " 'Septiembre': 30,\n",
    " 'Noviembre': 30}\n",
    "\n",
    "[\"Febrero - 28\", \"Abril - 30\", \"Junio - 30\", \"Septiembre - 30\", \"Noviembre - 30\"]\n",
    "```\n",
    "___"
   ]
  },
  {
   "cell_type": "code",
   "execution_count": 2,
   "id": "8da96951",
   "metadata": {},
   "outputs": [
    {
     "name": "stdout",
     "output_type": "stream",
     "text": [
      "{'Febrero': 28, 'Abril': 30, 'Junio': 30, 'Septiembre': 30, 'Noviembre': 30} ['Febrero-28', 'Abril-30', 'Junio-30', 'Septiembre-30', 'Noviembre-30']\n"
     ]
    }
   ],
   "source": [
    "meses = [\"Enero\", \"Febrero\", \"Marzo\", \"Abril\", \"Mayo\", \"Junio\", \"Julio\",\n",
    "         \"Agosto\", \"Septiembre\", \"Octubre\", \"Noviembre\", \"Diciembre\"]\n",
    "\n",
    "dias = [31, 28, 31, 30, 31, 30, 31, 31, 30, 31, 30, 31]\n",
    "\n",
    "dict_menos = {}\n",
    "list_pos = []\n",
    "\n",
    "for indice in range(len(dias)):\n",
    "    if dias[indice] < 31:    \n",
    "        dict_menos[meses[indice]]=dias[indice]\n",
    "        list_pos.append(str(meses[indice])+\"-\"+str(dias[indice]))\n",
    "print(dict_menos, list_pos)\n"
   ]
  },
  {
   "cell_type": "markdown",
   "id": "f95c89a1",
   "metadata": {},
   "source": [
    "<a id=\"exercise5\"></a>\n",
    "## Ejercicio 5: Funciones\n",
    "\n",
    "### Punto 1\n",
    "\n",
    "Se busca preparar la nómina de una pequeña empresa. Los datos suministrados son el número de horas trabajadas (`num_horas`) y la tasa de pago (`tasa_pago`). Para esto, se tienen las siguientes condiciones:\n",
    "\n",
    "- Si `num_horas` es menor o igual a 40, calculamos el pago regular (`pago_regular`) multiplicando `num_horas` por `tasa_pago`, y el pago de horas extras (`pago_extras`) es igual a 0.\n",
    "\n",
    "\n",
    "- Si `num_horas` es mayor a 40, calculamos el pago regular multiplicando 40 por `tasa_pago` y el pago de horas extras así: $(num\\_horas - 40) · tasa\\_pago · 1.5$. \n",
    "\n",
    "El salario neto (`neto`) se calcula sumando el pago regular (`pago_regular`) y el pago de horas extras (`pago_extras`).\n",
    "\n",
    "<div class=\"alert alert-block alert-warning\">\n",
    "    \n",
    "Escriba un algoritmo que permita calcular el pago de nómina de la pequeña empresa.\n",
    "\n",
    "</div>\n",
    "\n",
    "___\n",
    "**Ejemplo** <br>\n",
    "<font color=\"#FF5733\">Input</font>\n",
    "```python\n",
    "horas_trabajadas = 30\n",
    "pago_por_hora = 25\n",
    "```\n",
    "<font color=\"#FF5733\">Output</font>\n",
    "```python\n",
    "neto = 750\n",
    "```\n",
    "___"
   ]
  },
  {
   "cell_type": "code",
   "execution_count": 1,
   "id": "4e9f72fc",
   "metadata": {},
   "outputs": [
    {
     "name": "stdout",
     "output_type": "stream",
     "text": [
      "Horas trabajadas: 30\n",
      "Pago por hora: 25\n",
      "neto: 750.\n"
     ]
    }
   ],
   "source": [
    "num_horas = int(input(\"Horas trabajadas: \"))\n",
    "tasa_pago = int(input(\"Pago por hora: \"))\n",
    "\n",
    "if num_horas<=40:\n",
    "    pago_regular = num_horas * tasa_pago\n",
    "    pago_extras = 0\n",
    "elif num_horas>40:\n",
    "    pago_regular = 40 * tasa_pago\n",
    "    pago_extras = (num_horas - 40)* tasa_pago * 1.5\n",
    "    neto = pago_regular + pago_extras\n",
    "neto = pago_regular + pago_extras\n",
    "\n",
    "print(\"neto: \" +str(neto)+ \".\")"
   ]
  },
  {
   "cell_type": "markdown",
   "id": "7b89f7a4",
   "metadata": {},
   "source": [
    "### Punto 2\n",
    "\n",
    "<div class=\"alert alert-block alert-warning\">\n",
    "\n",
    "Cree una función `func` que reciba de entrada la función `f` (definida a continuación) y cuatro números como parámetros. Esta función `func` debe ejecutar la función `f` dos veces (la primera con los dos primeros números, y la última con los dos números finales). Con los dos resultados (i.e., al ejecutar dos veces y por separado la función `f`), calcular la **raíz de la suma de los cuadrados**. Este valor se debe imprimir en pantalla (i.e., `print()`) y retornar (i.e., `return`).\n",
    "\n",
    "</div>\n",
    "\n",
    "```python\n",
    "def f(x:int, y:int) -> int:\n",
    "    return x + y    \n",
    "```\n",
    "\n",
    "___\n",
    "**Ejemplo** <br>\n",
    "<font color=\"#FF5733\">Input</font>\n",
    "```python\n",
    "num_1 = 1\n",
    "num_2 = 2\n",
    "num_3 = 3\n",
    "num_4 = 4\n",
    "```\n",
    "<font color=\"#FF5733\">Output</font>\n",
    "```python\n",
    "rta = 7.615773105863909\n",
    "```\n",
    "___\n"
   ]
  },
  {
   "cell_type": "code",
   "execution_count": 4,
   "id": "bf107aaa",
   "metadata": {},
   "outputs": [],
   "source": [
    "\n",
    "import numpy as np\n",
    "def f(x:int, y:int) -> int:\n",
    "    return x + y\n",
    "def fun(f, n1, n2, n3, n4):\n",
    "    a = f(n1,n2)\n",
    "    b = f(n3,n4)\n",
    "    \n",
    "    x = a**2 + b**2\n",
    "    resultado = np.sqrt(x)\n",
    "    return resultado\n",
    "\n"
   ]
  },
  {
   "cell_type": "markdown",
   "id": "1eec965d",
   "metadata": {},
   "source": [
    "<a id=\"exercise6\"></a>\n",
    "## Ejercicio 6: Librerías\n",
    "\n",
    "### Punto 1\n",
    "\n",
    "En la carpeta `data` dentro de `week2` se dispone el archivo `solar_production.csv` que contiene datos de producción de la planta solar fotovoltaica ubicada en el edificio Santo Domingo de la Universidad de los Andes.\n",
    "\n",
    "<div class=\"alert alert-block alert-warning\">\n",
    "    \n",
    "Utilizando la librería `pandas`, escriba un algoritmo que permita:\n",
    "1. Indicar la cantidad de filas y columnas que tiene el conjunto de datos.\n",
    "2. Obtener una descripción estadística de las columnas de datos. Para esto, explore la función `describe()`.\n",
    "3. Indicar los años y meses en que se registraron los datos, guardarlos en una variable diferente cada uno (i.e., una variable para los años y otra para los meses) y no deben quedar valores duplicados ([aquí](https://pandas.pydata.org/docs/reference/api/pandas.DataFrame.drop_duplicates.html)).\n",
    "\n",
    "</div>"
   ]
  },
  {
   "cell_type": "code",
   "execution_count": null,
   "id": "a8843eda",
   "metadata": {},
   "outputs": [],
   "source": [
    "import pandas as pd\n",
    "\n",
    "route = ''\n",
    "\n",
    "file = pd.read_csv(filepath_or_buffer=route,\n",
    "                   delimiter= ';')\n",
    "\n",
    "# Ítem 1\n"
   ]
  },
  {
   "cell_type": "code",
   "execution_count": null,
   "id": "4095e41f",
   "metadata": {},
   "outputs": [],
   "source": [
    "# ítem 2\n"
   ]
  },
  {
   "cell_type": "code",
   "execution_count": null,
   "id": "c30de576",
   "metadata": {},
   "outputs": [],
   "source": [
    "# Ítem 3\n"
   ]
  },
  {
   "cell_type": "markdown",
   "id": "24658241",
   "metadata": {},
   "source": [
    "### Punto 2\n",
    "\n",
    "<div class=\"alert alert-block alert-warning\">\n",
    "    \n",
    "Utilizando la librería `numpy`, escriba un algoritmo que:\n",
    "1. Cree una función que permita realizar una lista de ceros de longitud `n`(este debe ser el parámetor de entrada). \n",
    "2. Cree una función que haga una lista con un rango desde `num1` hasta `num2` y que tenga 5 elementos ([aquí](https://numpy.org/doc/stable/reference/generated/numpy.linspace.html)); para los anteriores la entrada es con `input()`.\n",
    "\n",
    "</div>"
   ]
  },
  {
   "cell_type": "code",
   "execution_count": null,
   "id": "9c6e9484",
   "metadata": {},
   "outputs": [],
   "source": [
    "import numpy as np\n",
    "\n",
    "# Punto 1\n"
   ]
  },
  {
   "cell_type": "code",
   "execution_count": null,
   "id": "16a3b570",
   "metadata": {},
   "outputs": [],
   "source": [
    "# Punto 2\n"
   ]
  }
 ],
 "metadata": {
  "kernelspec": {
   "display_name": "Python 3 (ipykernel)",
   "language": "python",
   "name": "python3"
  },
  "language_info": {
   "codemirror_mode": {
    "name": "ipython",
    "version": 3
   },
   "file_extension": ".py",
   "mimetype": "text/x-python",
   "name": "python",
   "nbconvert_exporter": "python",
   "pygments_lexer": "ipython3",
   "version": "3.9.7"
  }
 },
 "nbformat": 4,
 "nbformat_minor": 5
}
