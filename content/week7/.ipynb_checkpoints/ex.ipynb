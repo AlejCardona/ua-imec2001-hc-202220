{
 "cells": [
  {
   "cell_type": "code",
   "execution_count": 3,
   "metadata": {},
   "outputs": [
    {
     "name": "stdout",
     "output_type": "stream",
     "text": [
      "\u001b[32m\u001b[1m      Status\u001b[22m\u001b[39m `~/Documents/GitHub/ua-imec2001-hc-202210/content/week6/Project.toml`\n",
      " \u001b[90m [a93c6f00] \u001b[39mDataFrames v1.3.4\n",
      " \u001b[90m [39dd38d3] \u001b[39mDierckx v0.5.2\n",
      " \u001b[90m [60bf3e95] \u001b[39mGLPK v1.0.1\n",
      " \u001b[90m [a98d9a8b] \u001b[39mInterpolations v0.13.6\n",
      " \u001b[90m [b6b21f68] \u001b[39mIpopt v1.0.2\n",
      " \u001b[90m [4076af6c] \u001b[39mJuMP v1.0.0\n",
      " \u001b[90m [2774e3e8] \u001b[39mNLsolve v4.5.1\n",
      " \u001b[90m [91a5bcdd] \u001b[39mPlots v1.29.0\n",
      " \u001b[90m [f2b01f46] \u001b[39mRoots v2.0.0\n"
     ]
    },
    {
     "name": "stderr",
     "output_type": "stream",
     "text": [
      "\u001b[32m\u001b[1m  Activating\u001b[22m\u001b[39m project at `~/Documents/GitHub/ua-imec2001-hc-202210/content/week6`\n"
     ]
    }
   ],
   "source": [
    "using Pkg\n",
    "Pkg.activate(pwd())\n",
    "Pkg.instantiate()\n",
    "Pkg.status()"
   ]
  },
  {
   "cell_type": "code",
   "execution_count": 2,
   "metadata": {},
   "outputs": [
    {
     "ename": "LoadError",
     "evalue": "ArgumentError: Package DifferentialEquations not found in current path:\n- Run `import Pkg; Pkg.add(\"DifferentialEquations\")` to install the DifferentialEquations package.\n",
     "output_type": "error",
     "traceback": [
      "ArgumentError: Package DifferentialEquations not found in current path:\n- Run `import Pkg; Pkg.add(\"DifferentialEquations\")` to install the DifferentialEquations package.\n",
      "",
      "Stacktrace:",
      " [1] require(into::Module, mod::Symbol)",
      "   @ Base ./loading.jl:967",
      " [2] eval",
      "   @ ./boot.jl:373 [inlined]",
      " [3] include_string(mapexpr::typeof(REPL.softscope), mod::Module, code::String, filename::String)",
      "   @ Base ./loading.jl:1196"
     ]
    }
   ],
   "source": [
    "using DifferentialEquations\n",
    "\n",
    "function suspension()\n",
    "    m = 0.5\n",
    "    k = 18.0\n",
    "    c = 1.5\n",
    "    x0 = -0.5\n",
    "    dx0 = 0.0\n",
    "    tspan = (0.0, 10.0)\n",
    "    p = [m, k, c]\n",
    "\n",
    "    f!(dx, x, p) = -1/p[1] * (p[2]*x + p[3]*dx)\n",
    "\n",
    "    prob = SecondOrderODEProblem(f!, dx0, x0, tspan, p)\n",
    "    sol = solve(prob)\n",
    "end\n",
    "\n",
    "suspension()"
   ]
  }
 ],
 "metadata": {
  "kernelspec": {
   "display_name": "Julia 1.7.2",
   "name": "julia-1.7"
  },
  "language_info": {
   "file_extension": ".jl",
   "mimetype": "application/julia",
   "name": "julia",
   "version": "1.7.2"
  },
  "orig_nbformat": 2
 },
 "nbformat": 4,
 "nbformat_minor": 2
}